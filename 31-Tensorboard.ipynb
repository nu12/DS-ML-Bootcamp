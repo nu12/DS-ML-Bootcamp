{
 "cells": [
  {
   "cell_type": "markdown",
   "metadata": {},
   "source": [
    "<a href=\"https://www.pieriandata.com\"><img src=\"../Pierian_Data_Logo.PNG\"></a>\n",
    "<strong><center>Copyright by Pierian Data Inc.</center></strong> \n",
    "<strong><center>Created by Jose Marcial Portilla.</center></strong>"
   ]
  },
  {
   "cell_type": "markdown",
   "metadata": {},
   "source": [
    "# Tensorboard\n",
    "\n",
    "---\n",
    "---\n",
    "\n",
    "**NOTE: You must watch the corresponding video to understand this lecture. This notebook can't serve as a full guide. Please watch the video BEFORE posting questions to the QA forum.**\n",
    "\n",
    "---\n",
    "---\n",
    "\n",
    "Let's explore the built in data visualization capabilities that come with Tensorboard.\n",
    "\n",
    "Full official tutorial available here: https://www.tensorflow.org/tensorboard/get_started\n",
    "\n",
    "## Data"
   ]
  },
  {
   "cell_type": "code",
   "execution_count": 1,
   "metadata": {},
   "outputs": [],
   "source": [
    "import pandas as pd\n",
    "import numpy as np"
   ]
  },
  {
   "cell_type": "code",
   "execution_count": 2,
   "metadata": {},
   "outputs": [],
   "source": [
    "df = pd.read_csv('data/29-cancer_classification.csv')"
   ]
  },
  {
   "cell_type": "markdown",
   "metadata": {},
   "source": [
    "### Train Test Split"
   ]
  },
  {
   "cell_type": "code",
   "execution_count": 3,
   "metadata": {},
   "outputs": [],
   "source": [
    "X = df.drop('benign_0__mal_1',axis=1).values\n",
    "y = df['benign_0__mal_1'].values"
   ]
  },
  {
   "cell_type": "code",
   "execution_count": 4,
   "metadata": {},
   "outputs": [],
   "source": [
    "from sklearn.model_selection import train_test_split"
   ]
  },
  {
   "cell_type": "code",
   "execution_count": 5,
   "metadata": {},
   "outputs": [],
   "source": [
    "X_train, X_test, y_train, y_test = train_test_split(X,y,test_size=0.25,random_state=101)"
   ]
  },
  {
   "cell_type": "markdown",
   "metadata": {},
   "source": [
    "\n",
    "### Scaling Data"
   ]
  },
  {
   "cell_type": "code",
   "execution_count": 6,
   "metadata": {},
   "outputs": [],
   "source": [
    "from sklearn.preprocessing import MinMaxScaler"
   ]
  },
  {
   "cell_type": "code",
   "execution_count": 7,
   "metadata": {},
   "outputs": [],
   "source": [
    "scaler = MinMaxScaler()"
   ]
  },
  {
   "cell_type": "code",
   "execution_count": 8,
   "metadata": {},
   "outputs": [
    {
     "data": {
      "text/plain": [
       "MinMaxScaler()"
      ]
     },
     "execution_count": 8,
     "metadata": {},
     "output_type": "execute_result"
    }
   ],
   "source": [
    "scaler.fit(X_train)"
   ]
  },
  {
   "cell_type": "code",
   "execution_count": 9,
   "metadata": {},
   "outputs": [],
   "source": [
    "X_train = scaler.transform(X_train)\n",
    "X_test = scaler.transform(X_test)"
   ]
  },
  {
   "cell_type": "markdown",
   "metadata": {},
   "source": [
    "## Creating the Model"
   ]
  },
  {
   "cell_type": "code",
   "execution_count": 10,
   "metadata": {},
   "outputs": [],
   "source": [
    "import tensorflow as tf\n",
    "from tensorflow.keras.models import Sequential\n",
    "from tensorflow.keras.layers import Dense, Activation,Dropout"
   ]
  },
  {
   "cell_type": "code",
   "execution_count": 11,
   "metadata": {},
   "outputs": [],
   "source": [
    "from tensorflow.keras.callbacks import EarlyStopping,TensorBoard"
   ]
  },
  {
   "cell_type": "code",
   "execution_count": 12,
   "metadata": {},
   "outputs": [],
   "source": [
    "early_stop = EarlyStopping(monitor='val_loss', mode='min', verbose=1, patience=25)"
   ]
  },
  {
   "cell_type": "code",
   "execution_count": 13,
   "metadata": {},
   "outputs": [
    {
     "data": {
      "text/plain": [
       "'/notebooks'"
      ]
     },
     "execution_count": 13,
     "metadata": {},
     "output_type": "execute_result"
    }
   ],
   "source": [
    "pwd"
   ]
  },
  {
   "cell_type": "markdown",
   "metadata": {},
   "source": [
    "## Creating the Tensorboard Callback\n",
    "\n",
    "TensorBoard is a visualization tool provided with TensorFlow.\n",
    "\n",
    "This callback logs events for TensorBoard, including:\n",
    "* Metrics summary plots\n",
    "* Training graph visualization\n",
    "* Activation histograms\n",
    "* Sampled profiling\n",
    "\n",
    "If you have installed TensorFlow with pip, you should be able\n",
    "to launch TensorBoard from the command line:\n",
    "\n",
    "```sh\n",
    "tensorboard --logdir=path_to_your_logs\n",
    "```\n",
    "\n",
    "You can find more information about TensorBoard\n",
    "[here](https://www.tensorflow.org/tensorboard/).\n",
    "\n",
    "    Arguments:\n",
    "        log_dir: the path of the directory where to save the log files to be\n",
    "          parsed by TensorBoard.\n",
    "        histogram_freq: frequency (in epochs) at which to compute activation and\n",
    "          weight histograms for the layers of the model. If set to 0, histograms\n",
    "          won't be computed. Validation data (or split) must be specified for\n",
    "          histogram visualizations.\n",
    "        write_graph: whether to visualize the graph in TensorBoard. The log file\n",
    "          can become quite large when write_graph is set to True.\n",
    "        write_images: whether to write model weights to visualize as image in\n",
    "          TensorBoard.\n",
    "        update_freq: `'batch'` or `'epoch'` or integer. When using `'batch'`,\n",
    "          writes the losses and metrics to TensorBoard after each batch. The same\n",
    "          applies for `'epoch'`. If using an integer, let's say `1000`, the\n",
    "          callback will write the metrics and losses to TensorBoard every 1000\n",
    "          samples. Note that writing too frequently to TensorBoard can slow down\n",
    "          your training.\n",
    "        profile_batch: Profile the batch to sample compute characteristics. By\n",
    "          default, it will profile the second batch. Set profile_batch=0 to\n",
    "          disable profiling. Must run in TensorFlow eager mode.\n",
    "        embeddings_freq: frequency (in epochs) at which embedding layers will\n",
    "          be visualized. If set to 0, embeddings won't be visualized.\n",
    "       "
   ]
  },
  {
   "cell_type": "code",
   "execution_count": 14,
   "metadata": {},
   "outputs": [],
   "source": [
    "from datetime import datetime"
   ]
  },
  {
   "cell_type": "code",
   "execution_count": 15,
   "metadata": {},
   "outputs": [
    {
     "data": {
      "text/plain": [
       "'2021-03-16--1326'"
      ]
     },
     "execution_count": 15,
     "metadata": {},
     "output_type": "execute_result"
    }
   ],
   "source": [
    "datetime.now().strftime(\"%Y-%m-%d--%H%M\")"
   ]
  },
  {
   "cell_type": "code",
   "execution_count": 16,
   "metadata": {},
   "outputs": [],
   "source": [
    "# WINDOWS: Use \"logs\\\\fit\"\n",
    "# MACOS: Use \"logs\\fit\"\n",
    "# LINUX: Use \"logs/fit\"\n",
    "\n",
    "log_directory = 'logs/fit'\n",
    "\n",
    "# OPTIONAL: ADD A TIMESTAMP FOR UNIQUE FOLDER\n",
    "# timestamp = datetime.now().strftime(\"%Y-%m-%d--%H%M\")\n",
    "# log_directory = log_directory + '\\\\' + timestamp\n",
    "\n",
    "\n",
    "board = TensorBoard(log_dir=log_directory,histogram_freq=1,\n",
    "    write_graph=True,\n",
    "    write_images=True,\n",
    "    update_freq='epoch',\n",
    "    profile_batch=2,\n",
    "    embeddings_freq=1)"
   ]
  },
  {
   "cell_type": "markdown",
   "metadata": {},
   "source": [
    "Now create the model layers:"
   ]
  },
  {
   "cell_type": "code",
   "execution_count": 17,
   "metadata": {},
   "outputs": [],
   "source": [
    "model = Sequential()\n",
    "model.add(Dense(units=30,activation='relu'))\n",
    "model.add(Dropout(0.5))\n",
    "model.add(Dense(units=15,activation='relu'))\n",
    "model.add(Dropout(0.5))\n",
    "model.add(Dense(units=1,activation='sigmoid'))\n",
    "model.compile(loss='binary_crossentropy', optimizer='adam')"
   ]
  },
  {
   "cell_type": "markdown",
   "metadata": {},
   "source": [
    "## Train the Model"
   ]
  },
  {
   "cell_type": "code",
   "execution_count": 18,
   "metadata": {},
   "outputs": [
    {
     "name": "stdout",
     "output_type": "stream",
     "text": [
      "Epoch 1/600\n",
      "14/14 [==============================] - 2s 63ms/step - loss: 0.7872 - val_loss: 0.6812\n",
      "Epoch 2/600\n",
      "14/14 [==============================] - 0s 6ms/step - loss: 0.6726 - val_loss: 0.6509\n",
      "Epoch 3/600\n",
      "14/14 [==============================] - 0s 5ms/step - loss: 0.6868 - val_loss: 0.6252\n",
      "Epoch 4/600\n",
      "14/14 [==============================] - 0s 5ms/step - loss: 0.6411 - val_loss: 0.5959\n",
      "Epoch 5/600\n",
      "14/14 [==============================] - 0s 5ms/step - loss: 0.5978 - val_loss: 0.5661\n",
      "Epoch 6/600\n",
      "14/14 [==============================] - 0s 5ms/step - loss: 0.5895 - val_loss: 0.5336\n",
      "Epoch 7/600\n",
      "14/14 [==============================] - 1s 42ms/step - loss: 0.5603 - val_loss: 0.4983\n",
      "Epoch 8/600\n",
      "14/14 [==============================] - 0s 5ms/step - loss: 0.5337 - val_loss: 0.4704\n",
      "Epoch 9/600\n",
      "14/14 [==============================] - 0s 6ms/step - loss: 0.5416 - val_loss: 0.4493\n",
      "Epoch 10/600\n",
      "14/14 [==============================] - 0s 6ms/step - loss: 0.5255 - val_loss: 0.4238\n",
      "Epoch 11/600\n",
      "14/14 [==============================] - 0s 6ms/step - loss: 0.4972 - val_loss: 0.3951\n",
      "Epoch 12/600\n",
      "14/14 [==============================] - 0s 7ms/step - loss: 0.4552 - val_loss: 0.3701\n",
      "Epoch 13/600\n",
      "14/14 [==============================] - 0s 6ms/step - loss: 0.4334 - val_loss: 0.3519\n",
      "Epoch 14/600\n",
      "14/14 [==============================] - 0s 6ms/step - loss: 0.4317 - val_loss: 0.3271\n",
      "Epoch 15/600\n",
      "14/14 [==============================] - 0s 6ms/step - loss: 0.4322 - val_loss: 0.3107\n",
      "Epoch 16/600\n",
      "14/14 [==============================] - 0s 6ms/step - loss: 0.3988 - val_loss: 0.3007\n",
      "Epoch 17/600\n",
      "14/14 [==============================] - 0s 5ms/step - loss: 0.3934 - val_loss: 0.2926\n",
      "Epoch 18/600\n",
      "14/14 [==============================] - 0s 5ms/step - loss: 0.3968 - val_loss: 0.2824\n",
      "Epoch 19/600\n",
      "14/14 [==============================] - 0s 5ms/step - loss: 0.3674 - val_loss: 0.2616\n",
      "Epoch 20/600\n",
      "14/14 [==============================] - 0s 5ms/step - loss: 0.3839 - val_loss: 0.2541\n",
      "Epoch 21/600\n",
      "14/14 [==============================] - 0s 5ms/step - loss: 0.3401 - val_loss: 0.2427\n",
      "Epoch 22/600\n",
      "14/14 [==============================] - 0s 5ms/step - loss: 0.3025 - val_loss: 0.2306\n",
      "Epoch 23/600\n",
      "14/14 [==============================] - 0s 7ms/step - loss: 0.3483 - val_loss: 0.2282\n",
      "Epoch 24/600\n",
      "14/14 [==============================] - 0s 5ms/step - loss: 0.3133 - val_loss: 0.2113\n",
      "Epoch 25/600\n",
      "14/14 [==============================] - 0s 5ms/step - loss: 0.2796 - val_loss: 0.2015\n",
      "Epoch 26/600\n",
      "14/14 [==============================] - 0s 5ms/step - loss: 0.3127 - val_loss: 0.1971\n",
      "Epoch 27/600\n",
      "14/14 [==============================] - 0s 4ms/step - loss: 0.2813 - val_loss: 0.1856\n",
      "Epoch 28/600\n",
      "14/14 [==============================] - 0s 4ms/step - loss: 0.3371 - val_loss: 0.1862\n",
      "Epoch 29/600\n",
      "14/14 [==============================] - 0s 5ms/step - loss: 0.2775 - val_loss: 0.1796\n",
      "Epoch 30/600\n",
      "14/14 [==============================] - 0s 8ms/step - loss: 0.2704 - val_loss: 0.1766\n",
      "Epoch 31/600\n",
      "14/14 [==============================] - 0s 4ms/step - loss: 0.2505 - val_loss: 0.1626\n",
      "Epoch 32/600\n",
      "14/14 [==============================] - 0s 4ms/step - loss: 0.2315 - val_loss: 0.1591\n",
      "Epoch 33/600\n",
      "14/14 [==============================] - 0s 4ms/step - loss: 0.2526 - val_loss: 0.1520\n",
      "Epoch 34/600\n",
      "14/14 [==============================] - 0s 4ms/step - loss: 0.2277 - val_loss: 0.1450\n",
      "Epoch 35/600\n",
      "14/14 [==============================] - 0s 4ms/step - loss: 0.2539 - val_loss: 0.1477\n",
      "Epoch 36/600\n",
      "14/14 [==============================] - 0s 5ms/step - loss: 0.2123 - val_loss: 0.1480\n",
      "Epoch 37/600\n",
      "14/14 [==============================] - 0s 7ms/step - loss: 0.2161 - val_loss: 0.1440\n",
      "Epoch 38/600\n",
      "14/14 [==============================] - 0s 5ms/step - loss: 0.2308 - val_loss: 0.1319\n",
      "Epoch 39/600\n",
      "14/14 [==============================] - 0s 5ms/step - loss: 0.2141 - val_loss: 0.1331\n",
      "Epoch 40/600\n",
      "14/14 [==============================] - 0s 5ms/step - loss: 0.2020 - val_loss: 0.1322\n",
      "Epoch 41/600\n",
      "14/14 [==============================] - 0s 5ms/step - loss: 0.2137 - val_loss: 0.1244\n",
      "Epoch 42/600\n",
      "14/14 [==============================] - 1s 6ms/step - loss: 0.2159 - val_loss: 0.1206\n",
      "Epoch 43/600\n",
      "14/14 [==============================] - 0s 5ms/step - loss: 0.2173 - val_loss: 0.1392\n",
      "Epoch 44/600\n",
      "14/14 [==============================] - 0s 5ms/step - loss: 0.1923 - val_loss: 0.1159\n",
      "Epoch 45/600\n",
      "14/14 [==============================] - 0s 4ms/step - loss: 0.1929 - val_loss: 0.1153\n",
      "Epoch 46/600\n",
      "14/14 [==============================] - 0s 5ms/step - loss: 0.1825 - val_loss: 0.1195\n",
      "Epoch 47/600\n",
      "14/14 [==============================] - 0s 6ms/step - loss: 0.1494 - val_loss: 0.1106\n",
      "Epoch 48/600\n",
      "14/14 [==============================] - 0s 5ms/step - loss: 0.1658 - val_loss: 0.1183\n",
      "Epoch 49/600\n",
      "14/14 [==============================] - 0s 5ms/step - loss: 0.1808 - val_loss: 0.1102\n",
      "Epoch 50/600\n",
      "14/14 [==============================] - 0s 5ms/step - loss: 0.1759 - val_loss: 0.1082\n",
      "Epoch 51/600\n",
      "14/14 [==============================] - 0s 4ms/step - loss: 0.1635 - val_loss: 0.1066\n",
      "Epoch 52/600\n",
      "14/14 [==============================] - 0s 4ms/step - loss: 0.1483 - val_loss: 0.1103\n",
      "Epoch 53/600\n",
      "14/14 [==============================] - 0s 4ms/step - loss: 0.1466 - val_loss: 0.1027\n",
      "Epoch 54/600\n",
      "14/14 [==============================] - 0s 4ms/step - loss: 0.1522 - val_loss: 0.1006\n",
      "Epoch 55/600\n",
      "14/14 [==============================] - 0s 5ms/step - loss: 0.1465 - val_loss: 0.0954\n",
      "Epoch 56/600\n",
      "14/14 [==============================] - 0s 4ms/step - loss: 0.1491 - val_loss: 0.0952\n",
      "Epoch 57/600\n",
      "14/14 [==============================] - 0s 5ms/step - loss: 0.1431 - val_loss: 0.1015\n",
      "Epoch 58/600\n",
      "14/14 [==============================] - 0s 5ms/step - loss: 0.1535 - val_loss: 0.0963\n",
      "Epoch 59/600\n",
      "14/14 [==============================] - 0s 5ms/step - loss: 0.1156 - val_loss: 0.0955\n",
      "Epoch 60/600\n",
      "14/14 [==============================] - 0s 4ms/step - loss: 0.1307 - val_loss: 0.0931\n",
      "Epoch 61/600\n",
      "14/14 [==============================] - 0s 5ms/step - loss: 0.1215 - val_loss: 0.0894\n",
      "Epoch 62/600\n",
      "14/14 [==============================] - 0s 4ms/step - loss: 0.1281 - val_loss: 0.0881\n",
      "Epoch 63/600\n",
      "14/14 [==============================] - 0s 4ms/step - loss: 0.1638 - val_loss: 0.0919\n",
      "Epoch 64/600\n",
      "14/14 [==============================] - 0s 4ms/step - loss: 0.1103 - val_loss: 0.0988\n",
      "Epoch 65/600\n",
      "14/14 [==============================] - 0s 5ms/step - loss: 0.1113 - val_loss: 0.0905\n",
      "Epoch 66/600\n",
      "14/14 [==============================] - 0s 5ms/step - loss: 0.1286 - val_loss: 0.0906\n",
      "Epoch 67/600\n",
      "14/14 [==============================] - 0s 6ms/step - loss: 0.1605 - val_loss: 0.0906\n",
      "Epoch 68/600\n",
      "14/14 [==============================] - 0s 5ms/step - loss: 0.0989 - val_loss: 0.0887\n",
      "Epoch 69/600\n",
      "14/14 [==============================] - 0s 5ms/step - loss: 0.1171 - val_loss: 0.1012\n",
      "Epoch 70/600\n",
      "14/14 [==============================] - 0s 6ms/step - loss: 0.1073 - val_loss: 0.0893\n",
      "Epoch 71/600\n",
      "14/14 [==============================] - 0s 5ms/step - loss: 0.1172 - val_loss: 0.0879\n",
      "Epoch 72/600\n",
      "14/14 [==============================] - 0s 6ms/step - loss: 0.1280 - val_loss: 0.0879\n",
      "Epoch 73/600\n",
      "14/14 [==============================] - 0s 5ms/step - loss: 0.1383 - val_loss: 0.0884\n",
      "Epoch 74/600\n",
      "14/14 [==============================] - 0s 6ms/step - loss: 0.1210 - val_loss: 0.0932\n",
      "Epoch 75/600\n",
      "14/14 [==============================] - 0s 6ms/step - loss: 0.1174 - val_loss: 0.0865\n",
      "Epoch 76/600\n",
      "14/14 [==============================] - 0s 5ms/step - loss: 0.0933 - val_loss: 0.0838\n",
      "Epoch 77/600\n",
      "14/14 [==============================] - 0s 5ms/step - loss: 0.0969 - val_loss: 0.0925\n",
      "Epoch 78/600\n",
      "14/14 [==============================] - 0s 5ms/step - loss: 0.1173 - val_loss: 0.0852\n",
      "Epoch 79/600\n",
      "14/14 [==============================] - 0s 7ms/step - loss: 0.1009 - val_loss: 0.0839\n",
      "Epoch 80/600\n",
      "14/14 [==============================] - 0s 6ms/step - loss: 0.1110 - val_loss: 0.0882\n",
      "Epoch 81/600\n",
      "14/14 [==============================] - 0s 5ms/step - loss: 0.1048 - val_loss: 0.0891\n",
      "Epoch 82/600\n",
      "14/14 [==============================] - 0s 6ms/step - loss: 0.1163 - val_loss: 0.0825\n"
     ]
    },
    {
     "name": "stdout",
     "output_type": "stream",
     "text": [
      "Epoch 83/600\n",
      "14/14 [==============================] - 0s 6ms/step - loss: 0.0971 - val_loss: 0.0901\n",
      "Epoch 84/600\n",
      "14/14 [==============================] - 0s 6ms/step - loss: 0.0940 - val_loss: 0.0850\n",
      "Epoch 85/600\n",
      "14/14 [==============================] - 0s 32ms/step - loss: 0.0927 - val_loss: 0.0949\n",
      "Epoch 86/600\n",
      "14/14 [==============================] - 0s 7ms/step - loss: 0.0829 - val_loss: 0.1002\n",
      "Epoch 87/600\n",
      "14/14 [==============================] - 0s 7ms/step - loss: 0.0868 - val_loss: 0.0799\n",
      "Epoch 88/600\n",
      "14/14 [==============================] - 0s 5ms/step - loss: 0.0947 - val_loss: 0.1053\n",
      "Epoch 89/600\n",
      "14/14 [==============================] - 1s 6ms/step - loss: 0.1003 - val_loss: 0.0865\n",
      "Epoch 90/600\n",
      "14/14 [==============================] - 0s 6ms/step - loss: 0.0925 - val_loss: 0.0840\n",
      "Epoch 91/600\n",
      "14/14 [==============================] - 0s 6ms/step - loss: 0.0837 - val_loss: 0.1119\n",
      "Epoch 92/600\n",
      "14/14 [==============================] - 0s 6ms/step - loss: 0.1062 - val_loss: 0.0840\n",
      "Epoch 93/600\n",
      "14/14 [==============================] - 0s 6ms/step - loss: 0.0945 - val_loss: 0.0875\n",
      "Epoch 94/600\n",
      "14/14 [==============================] - 0s 5ms/step - loss: 0.0970 - val_loss: 0.0837\n",
      "Epoch 95/600\n",
      "14/14 [==============================] - 0s 5ms/step - loss: 0.0998 - val_loss: 0.0790\n",
      "Epoch 96/600\n",
      "14/14 [==============================] - 0s 8ms/step - loss: 0.0798 - val_loss: 0.0868\n",
      "Epoch 97/600\n",
      "14/14 [==============================] - 0s 7ms/step - loss: 0.0725 - val_loss: 0.0823\n",
      "Epoch 98/600\n",
      "14/14 [==============================] - 0s 5ms/step - loss: 0.0945 - val_loss: 0.0840\n",
      "Epoch 99/600\n",
      "14/14 [==============================] - 0s 6ms/step - loss: 0.1123 - val_loss: 0.0895\n",
      "Epoch 100/600\n",
      "14/14 [==============================] - 0s 5ms/step - loss: 0.0898 - val_loss: 0.0798\n",
      "Epoch 101/600\n",
      "14/14 [==============================] - 0s 7ms/step - loss: 0.1006 - val_loss: 0.0779\n",
      "Epoch 102/600\n",
      "14/14 [==============================] - 0s 6ms/step - loss: 0.0948 - val_loss: 0.0857\n",
      "Epoch 103/600\n",
      "14/14 [==============================] - 0s 5ms/step - loss: 0.1100 - val_loss: 0.0863\n",
      "Epoch 104/600\n",
      "14/14 [==============================] - 0s 6ms/step - loss: 0.1075 - val_loss: 0.0784\n",
      "Epoch 105/600\n",
      "14/14 [==============================] - 0s 6ms/step - loss: 0.1036 - val_loss: 0.0861\n",
      "Epoch 106/600\n",
      "14/14 [==============================] - 0s 6ms/step - loss: 0.1142 - val_loss: 0.0869\n",
      "Epoch 107/600\n",
      "14/14 [==============================] - 0s 5ms/step - loss: 0.0812 - val_loss: 0.0798\n",
      "Epoch 108/600\n",
      "14/14 [==============================] - 0s 10ms/step - loss: 0.0879 - val_loss: 0.0995\n",
      "Epoch 109/600\n",
      "14/14 [==============================] - 0s 5ms/step - loss: 0.1011 - val_loss: 0.0837\n",
      "Epoch 110/600\n",
      "14/14 [==============================] - 1s 41ms/step - loss: 0.0804 - val_loss: 0.0855\n",
      "Epoch 111/600\n",
      "14/14 [==============================] - 0s 6ms/step - loss: 0.0995 - val_loss: 0.0769\n",
      "Epoch 112/600\n",
      "14/14 [==============================] - 0s 5ms/step - loss: 0.0821 - val_loss: 0.0927\n",
      "Epoch 113/600\n",
      "14/14 [==============================] - 0s 5ms/step - loss: 0.0942 - val_loss: 0.1037\n",
      "Epoch 114/600\n",
      "14/14 [==============================] - 0s 7ms/step - loss: 0.1093 - val_loss: 0.0781\n",
      "Epoch 115/600\n",
      "14/14 [==============================] - 0s 7ms/step - loss: 0.1049 - val_loss: 0.0880\n",
      "Epoch 116/600\n",
      "14/14 [==============================] - 0s 5ms/step - loss: 0.0774 - val_loss: 0.0923\n",
      "Epoch 117/600\n",
      "14/14 [==============================] - 0s 6ms/step - loss: 0.0929 - val_loss: 0.0862\n",
      "Epoch 118/600\n",
      "14/14 [==============================] - 0s 6ms/step - loss: 0.0852 - val_loss: 0.0792\n",
      "Epoch 119/600\n",
      "14/14 [==============================] - 0s 6ms/step - loss: 0.0881 - val_loss: 0.0975\n",
      "Epoch 120/600\n",
      "14/14 [==============================] - 0s 6ms/step - loss: 0.1030 - val_loss: 0.0921\n",
      "Epoch 121/600\n",
      "14/14 [==============================] - 0s 5ms/step - loss: 0.0917 - val_loss: 0.0791\n",
      "Epoch 122/600\n",
      "14/14 [==============================] - 0s 5ms/step - loss: 0.0915 - val_loss: 0.0860\n",
      "Epoch 123/600\n",
      "14/14 [==============================] - 0s 5ms/step - loss: 0.0866 - val_loss: 0.0830\n",
      "Epoch 124/600\n",
      "14/14 [==============================] - 0s 5ms/step - loss: 0.1003 - val_loss: 0.0854\n",
      "Epoch 125/600\n",
      "14/14 [==============================] - 0s 5ms/step - loss: 0.1223 - val_loss: 0.0914\n",
      "Epoch 126/600\n",
      "14/14 [==============================] - 0s 9ms/step - loss: 0.0853 - val_loss: 0.0845\n",
      "Epoch 127/600\n",
      "14/14 [==============================] - 0s 6ms/step - loss: 0.0795 - val_loss: 0.0938\n",
      "Epoch 128/600\n",
      "14/14 [==============================] - 0s 6ms/step - loss: 0.0739 - val_loss: 0.0804\n",
      "Epoch 129/600\n",
      "14/14 [==============================] - 0s 6ms/step - loss: 0.0862 - val_loss: 0.0784\n",
      "Epoch 130/600\n",
      "14/14 [==============================] - 0s 5ms/step - loss: 0.1097 - val_loss: 0.0859\n",
      "Epoch 131/600\n",
      "14/14 [==============================] - 0s 5ms/step - loss: 0.0762 - val_loss: 0.0876\n",
      "Epoch 132/600\n",
      "14/14 [==============================] - 0s 5ms/step - loss: 0.0725 - val_loss: 0.0833\n",
      "Epoch 133/600\n",
      "14/14 [==============================] - 0s 6ms/step - loss: 0.0895 - val_loss: 0.0888\n",
      "Epoch 134/600\n",
      "14/14 [==============================] - 0s 6ms/step - loss: 0.0856 - val_loss: 0.0896\n",
      "Epoch 135/600\n",
      "14/14 [==============================] - 0s 5ms/step - loss: 0.0945 - val_loss: 0.0945\n",
      "Epoch 136/600\n",
      "14/14 [==============================] - 0s 6ms/step - loss: 0.0958 - val_loss: 0.0810\n",
      "Epoch 00136: early stopping\n"
     ]
    },
    {
     "data": {
      "text/plain": [
       "<tensorflow.python.keras.callbacks.History at 0x7f4b2be57070>"
      ]
     },
     "execution_count": 18,
     "metadata": {},
     "output_type": "execute_result"
    }
   ],
   "source": [
    "model.fit(x=X_train, \n",
    "          y=y_train, \n",
    "          epochs=600,\n",
    "          validation_data=(X_test, y_test), verbose=1,\n",
    "          callbacks=[early_stop,board]\n",
    "          )"
   ]
  },
  {
   "cell_type": "markdown",
   "metadata": {},
   "source": [
    "# Running Tensorboard\n"
   ]
  },
  {
   "cell_type": "markdown",
   "metadata": {},
   "source": [
    "## Running through the Command Line\n",
    "\n",
    "**Watch video to see how to run Tensorboard through a command line call.**"
   ]
  },
  {
   "cell_type": "markdown",
   "metadata": {},
   "source": [
    "Tensorboard will run locally in your browser at [http://localhost:6006/](http://localhost:6006/)\n"
   ]
  },
  {
   "cell_type": "code",
   "execution_count": 19,
   "metadata": {},
   "outputs": [
    {
     "name": "stdout",
     "output_type": "stream",
     "text": [
      "logs/fit\n"
     ]
    }
   ],
   "source": [
    "print(log_directory)"
   ]
  },
  {
   "cell_type": "code",
   "execution_count": 20,
   "metadata": {},
   "outputs": [
    {
     "data": {
      "text/plain": [
       "'/notebooks'"
      ]
     },
     "execution_count": 20,
     "metadata": {},
     "output_type": "execute_result"
    }
   ],
   "source": [
    "pwd"
   ]
  },
  {
   "cell_type": "markdown",
   "metadata": {},
   "source": [
    "### Use cd at your command line to change directory to the file path reported back by pwd or your current .py file location.\n",
    "### Then run this code at your command line or terminal"
   ]
  },
  {
   "cell_type": "code",
   "execution_count": null,
   "metadata": {},
   "outputs": [],
   "source": [
    "tensorboard --logdir logs/fit "
   ]
  }
 ],
 "metadata": {
  "kernelspec": {
   "display_name": "Python 3",
   "language": "python",
   "name": "python3"
  },
  "language_info": {
   "codemirror_mode": {
    "name": "ipython",
    "version": 3
   },
   "file_extension": ".py",
   "mimetype": "text/x-python",
   "name": "python",
   "nbconvert_exporter": "python",
   "pygments_lexer": "ipython3",
   "version": "3.8.8"
  }
 },
 "nbformat": 4,
 "nbformat_minor": 2
}
